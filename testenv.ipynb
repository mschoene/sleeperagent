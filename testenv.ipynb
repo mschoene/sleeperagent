{
 "cells": [
  {
   "cell_type": "code",
   "execution_count": 2,
   "id": "8361fdab-8f79-434a-bf49-f930c871e644",
   "metadata": {},
   "outputs": [
    {
     "name": "stderr",
     "output_type": "stream",
     "text": [
      "/home/gp/anaconda3/envs/sleeper/lib/python3.10/site-packages/robosuite/macros.py:53: DeprecationWarning: The 'warn' method is deprecated, use 'warning' instead\n",
      "  ROBOSUITE_DEFAULT_LOGGER.warn(\"No private macro file found!\")\n",
      "\u001b[1m\u001b[33m[robosuite WARNING] \u001b[0mNo private macro file found! (macros.py:53)\n",
      "WARNING:robosuite_logs:No private macro file found!\n",
      "/home/gp/anaconda3/envs/sleeper/lib/python3.10/site-packages/robosuite/macros.py:54: DeprecationWarning: The 'warn' method is deprecated, use 'warning' instead\n",
      "  ROBOSUITE_DEFAULT_LOGGER.warn(\"It is recommended to use a private macro file\")\n",
      "\u001b[1m\u001b[33m[robosuite WARNING] \u001b[0mIt is recommended to use a private macro file (macros.py:54)\n",
      "WARNING:robosuite_logs:It is recommended to use a private macro file\n",
      "/home/gp/anaconda3/envs/sleeper/lib/python3.10/site-packages/robosuite/macros.py:55: DeprecationWarning: The 'warn' method is deprecated, use 'warning' instead\n",
      "  ROBOSUITE_DEFAULT_LOGGER.warn(\"To setup, run: python {}/scripts/setup_macros.py\".format(robosuite.__path__[0]))\n",
      "\u001b[1m\u001b[33m[robosuite WARNING] \u001b[0mTo setup, run: python /home/gp/anaconda3/envs/sleeper/lib/python3.10/site-packages/robosuite/scripts/setup_macros.py (macros.py:55)\n",
      "WARNING:robosuite_logs:To setup, run: python /home/gp/anaconda3/envs/sleeper/lib/python3.10/site-packages/robosuite/scripts/setup_macros.py\n"
     ]
    }
   ],
   "source": [
    "import numpy as np\n",
    "import imageio\n",
    "from sheeprl.envs.robosuite_env import RobosuiteEnv"
   ]
  },
  {
   "cell_type": "code",
   "execution_count": 22,
   "id": "95b556b7-0ee7-4120-97e1-39f53552d4ab",
   "metadata": {},
   "outputs": [
    {
     "name": "stdout",
     "output_type": "stream",
     "text": [
      "\n",
      "============= Initialized Observation Utils with Obs Spec =============\n",
      "\n",
      "using obs modality: rgb with keys: ['robot0_eye_in_hand_image', 'agentview_image']\n",
      "using obs modality: low_dim with keys: ['robot0_gripper_qpos', 'robot0_eef_quat', 'robot0_eef_pos', 'object']\n",
      "FPS: 144.535589533239\n"
     ]
    }
   ],
   "source": [
    "import time\n",
    "env = RobosuiteEnv(camera_height=128, camera_width=128, render_mode=1)\n",
    "obs = env.reset()\n",
    "\n",
    "frames = []\n",
    "start = time.time()\n",
    "for step in range(1000):\n",
    "    \n",
    "    action = env.action_space.sample() \n",
    "    obs, reward, done, truncated, info = env.step(action)\n",
    "    # frame = env.render()\n",
    "    \n",
    "    # if frame is not None:\n",
    "    frames.append(obs['rgb_third'].transpose((1,2,0)))\n",
    "    \n",
    "    if done or truncated:\n",
    "        obs = env.reset()\n",
    "print(f\"FPS: {1000/(time.time() - start)}\")\n",
    "env.close()\n",
    "\n",
    "\n",
    "video_path = \"test_video.mp4\"\n",
    "imageio.mimsave(video_path, frames, fps=20)"
   ]
  },
  {
   "cell_type": "code",
   "execution_count": 23,
   "id": "67a395ac-056d-45d9-b877-884e5a5aa5d7",
   "metadata": {},
   "outputs": [],
   "source": [
    "video_path = \"test_video.mp4\"\n",
    "imageio.mimsave(video_path, frames, fps=20)"
   ]
  },
  {
   "cell_type": "code",
   "execution_count": 21,
   "id": "6ff98caa-f196-47d6-bb70-92865c60b3c2",
   "metadata": {},
   "outputs": [
    {
     "data": {
      "text/plain": [
       "{'rgb_wrist': array([[[175, 174, 174, ..., 189, 187, 186],\n",
       "         [174, 174, 174, ..., 185, 184, 183],\n",
       "         [174, 174, 158, ..., 183, 182, 182],\n",
       "         ...,\n",
       "         [104, 104, 104, ..., 104, 104, 104],\n",
       "         [104, 104, 104, ..., 104, 104, 104],\n",
       "         [104, 104, 104, ..., 105, 105, 105]],\n",
       " \n",
       "        [[183, 182, 182, ..., 180, 178, 177],\n",
       "         [182, 182, 182, ..., 175, 174, 173],\n",
       "         [182, 182, 163, ..., 173, 173, 173],\n",
       "         ...,\n",
       "         [104, 104, 104, ..., 104, 104, 104],\n",
       "         [104, 104, 104, ..., 104, 104, 104],\n",
       "         [104, 104, 104, ..., 105, 105, 105]],\n",
       " \n",
       "        [[208, 208, 207, ..., 172, 170, 168],\n",
       "         [208, 207, 207, ..., 166, 165, 165],\n",
       "         [208, 207, 182, ..., 164, 164, 164],\n",
       "         ...,\n",
       "         [104, 104, 104, ..., 104, 104, 104],\n",
       "         [104, 104, 104, ..., 104, 104, 104],\n",
       "         [104, 104, 104, ..., 105, 105, 105]]], dtype=uint8),\n",
       " 'rgb_third': array([[[116, 116, 116, ..., 115, 116, 115],\n",
       "         [116, 116, 116, ..., 115, 116, 115],\n",
       "         [116, 116, 116, ..., 116, 116, 115],\n",
       "         ...,\n",
       "         [201, 206, 208, ..., 197, 198, 200],\n",
       "         [204, 206, 209, ..., 209, 211, 208],\n",
       "         [207, 208, 208, ..., 191, 191, 192]],\n",
       " \n",
       "        [[115, 114, 114, ..., 113, 114, 113],\n",
       "         [114, 114, 113, ..., 113, 113, 113],\n",
       "         [114, 114, 115, ..., 114, 113, 113],\n",
       "         ...,\n",
       "         [191, 196, 196, ..., 188, 189, 191],\n",
       "         [192, 194, 197, ..., 201, 203, 200],\n",
       "         [194, 196, 196, ..., 182, 183, 184]],\n",
       " \n",
       "        [[111, 111, 111, ..., 110, 111, 110],\n",
       "         [110, 111, 110, ..., 109, 110, 110],\n",
       "         [111, 111, 111, ..., 110, 110, 109],\n",
       "         ...,\n",
       "         [183, 186, 187, ..., 179, 180, 182],\n",
       "         [184, 184, 186, ..., 192, 194, 191],\n",
       "         [185, 185, 185, ..., 173, 174, 175]]], dtype=uint8)}"
      ]
     },
     "execution_count": 21,
     "metadata": {},
     "output_type": "execute_result"
    }
   ],
   "source": [
    "obs"
   ]
  },
  {
   "cell_type": "code",
   "execution_count": 14,
   "id": "468f2cbc-c3b7-4d06-b90f-b6b414aa491c",
   "metadata": {},
   "outputs": [],
   "source": [
    "frame = env.render()"
   ]
  },
  {
   "cell_type": "code",
   "execution_count": 18,
   "id": "a06c06ad-113a-4a44-be77-0128bc39d67b",
   "metadata": {},
   "outputs": [
    {
     "data": {
      "text/plain": [
       "(128, 128, 3)"
      ]
     },
     "execution_count": 18,
     "metadata": {},
     "output_type": "execute_result"
    }
   ],
   "source": [
    ".shape"
   ]
  },
  {
   "cell_type": "code",
   "execution_count": null,
   "id": "562cf75e-273e-49cd-ab11-8625f524c997",
   "metadata": {},
   "outputs": [],
   "source": []
  }
 ],
 "metadata": {
  "kernelspec": {
   "display_name": "Python 3 (ipykernel)",
   "language": "python",
   "name": "python3"
  },
  "language_info": {
   "codemirror_mode": {
    "name": "ipython",
    "version": 3
   },
   "file_extension": ".py",
   "mimetype": "text/x-python",
   "name": "python",
   "nbconvert_exporter": "python",
   "pygments_lexer": "ipython3",
   "version": "3.10.16"
  }
 },
 "nbformat": 4,
 "nbformat_minor": 5
}
